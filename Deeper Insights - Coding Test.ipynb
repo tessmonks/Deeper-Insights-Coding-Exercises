{
 "cells": [
  {
   "cell_type": "markdown",
   "id": "d4faddc1",
   "metadata": {},
   "source": [
    "### Deeper Insights Coding Test\n",
    "##### Tess Monks\n",
    "\n",
    "You will write a program that takes as command-line input a file path specifying a source text and a search term. Your job is to search the source text for matches of the search term, and output all the matches as defined below."
   ]
  },
  {
   "cell_type": "code",
   "execution_count": 95,
   "id": "4d192588",
   "metadata": {},
   "outputs": [
    {
     "name": "stdout",
     "output_type": "stream",
     "text": [
      "[to get very]\n",
      "[by her sister]\n"
     ]
    }
   ],
   "source": [
    "# import necessary packages\n",
    "import re\n",
    "# source text format is lines of strings\n",
    "# each line has three words embedded in symbols, numbers, and spaces\n",
    "\n",
    "# read in source_text\n",
    "f = open(\"input.txt\") \n",
    "source_text = f.read()\n",
    "\n",
    "# process source text into list of lines\n",
    "lines = source_text.split('\\n')\n",
    "\n",
    "# retrieve search term as last item\n",
    "search_term = str(lines[-1])\n",
    "\n",
    "\n",
    "# if any of the line contains the search word, append the line to a list of matches\n",
    "matches = []\n",
    "for line in lines[0:-1]:\n",
    "    if re.search(search_term, line):\n",
    "        matches.append(line)\n",
    "\n",
    "# format the output to be the single space square bracket list of only alphabetic chars        \n",
    "# output all lines in order that they appear\n",
    "matched_words = []\n",
    "for match in matches:\n",
    "    matched_words.append(re.findall('[a-zA-Z]+', match))\n",
    "\n",
    "for sublist in matched_words:\n",
    "    print('['+' '.join(sublist)+']')\n"
   ]
  },
  {
   "cell_type": "code",
   "execution_count": null,
   "id": "6e7656b7",
   "metadata": {},
   "outputs": [],
   "source": []
  }
 ],
 "metadata": {
  "kernelspec": {
   "display_name": "Python 3 (ipykernel)",
   "language": "python",
   "name": "python3"
  },
  "language_info": {
   "codemirror_mode": {
    "name": "ipython",
    "version": 3
   },
   "file_extension": ".py",
   "mimetype": "text/x-python",
   "name": "python",
   "nbconvert_exporter": "python",
   "pygments_lexer": "ipython3",
   "version": "3.7.4"
  }
 },
 "nbformat": 4,
 "nbformat_minor": 5
}
